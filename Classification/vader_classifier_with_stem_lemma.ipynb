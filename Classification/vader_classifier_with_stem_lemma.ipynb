{
 "cells": [
  {
   "cell_type": "markdown",
   "metadata": {},
   "source": [
    "# Sentiment Tagging with Vader"
   ]
  },
  {
   "cell_type": "code",
   "execution_count": 64,
   "metadata": {},
   "outputs": [],
   "source": [
    "from vaderSentiment.vaderSentiment import SentimentIntensityAnalyzer\n",
    "from nnsplit import NNSplit\n",
    "from nltk.corpus import stopwords\n",
    "from nltk.corpus import wordnet\n",
    "from nltk import pos_tag\n",
    "from nltk.stem import WordNetLemmatizer\n",
    "from nltk.stem import PorterStemmer\n",
    "\n",
    "import re\n",
    "import pandas as pd"
   ]
  },
  {
   "cell_type": "markdown",
   "metadata": {},
   "source": [
    "## Input unseen data"
   ]
  },
  {
   "cell_type": "markdown",
   "metadata": {},
   "source": [
    "### New review"
   ]
  },
  {
   "cell_type": "code",
   "execution_count": 65,
   "metadata": {},
   "outputs": [],
   "source": [
    "new_review = \"The scenary is great with a seaview right in front of my eyes However the windows is not clean for me to enjoy the view Food is good and tasty fish is fresh with nice presentation The service quality is good and efficient and the staff are all polite\""
   ]
  },
  {
   "cell_type": "markdown",
   "metadata": {},
   "source": [
    "### Split into sentence using NNSplit"
   ]
  },
  {
   "cell_type": "code",
   "execution_count": 66,
   "metadata": {},
   "outputs": [
    {
     "data": {
      "text/plain": [
       "['The scenary is great with a seaview right in front of my eyes ',\n",
       " 'However the windows is not clean for me to enjoy the view ',\n",
       " 'Food is good and tasty fish is fresh with nice presentation ',\n",
       " 'The service quality is good and efficient and the staff are all polite ']"
      ]
     },
     "execution_count": 66,
     "metadata": {},
     "output_type": "execute_result"
    }
   ],
   "source": [
    "sent_list = []\n",
    "splitter = NNSplit(\"en\")\n",
    "\n",
    "sent = splitter.split([new_review.strip()])\n",
    "for i in sent[0]:\n",
    "    new_string = ''\n",
    "    for j in i:\n",
    "        new_string += j.text + \" \"\n",
    "    sent_list.append(new_string)\n",
    "    \n",
    "sent_list"
   ]
  },
  {
   "cell_type": "markdown",
   "metadata": {},
   "source": [
    "### Filter sentence above 8 words"
   ]
  },
  {
   "cell_type": "code",
   "execution_count": 67,
   "metadata": {},
   "outputs": [],
   "source": [
    "def number_words(sentence):\n",
    "    return len(re.findall(r'\\w+', str(sentence)))\n",
    "\n",
    "new_sent_list = [] \n",
    "for sent in sent_list:\n",
    "    if number_words(sent) > 4:\n",
    "        new_sent_list.append(sent)\n"
   ]
  },
  {
   "cell_type": "markdown",
   "metadata": {},
   "source": [
    "### Data Cleaning"
   ]
  },
  {
   "cell_type": "code",
   "execution_count": 68,
   "metadata": {},
   "outputs": [],
   "source": [
    "def get_wordnet_pos(pos_tag):\n",
    "    if pos_tag.startswith('J'):\n",
    "        return wordnet.ADJ\n",
    "    elif pos_tag.startswith('V'):\n",
    "        return wordnet.VERB\n",
    "    elif pos_tag.startswith('N'):\n",
    "        return wordnet.NOUN\n",
    "    elif pos_tag.startswith('R'):\n",
    "        return wordnet.ADV\n",
    "    else:\n",
    "        return wordnet.NOUN\n",
    "    \n",
    "def lemmatize_text(text):\n",
    "    text = text.lower()\n",
    "    text = [t for t in text.split() if len(t) > 2]\n",
    "    lemmatizer = WordNetLemmatizer()\n",
    "    lemma_list = [lemmatizer.lemmatize(w) for w in text]\n",
    "    text = \" \".join(lemma_list)\n",
    "    print(\"Lemma text: \", text)\n",
    "    return text\n",
    "    \n",
    "def stem_text(text):\n",
    "    text = text.lower()\n",
    "    text = [t for t in text.split() if len(t) > 2]\n",
    "    stemmer = PorterStemmer()\n",
    "    stem_list = [stemmer.stem(w) for w in text]\n",
    "    text = \" \".join(stem_list)\n",
    "    print(\"Stemmed text :\", text)\n",
    "    return text\n",
    "    \n",
    "def clean_text(text):\n",
    "    # lower text\n",
    "    text = text.lower()\n",
    "    # tokenize text and remove puncutation\n",
    "    # text = [word.strip(string.punctuation) for word in text.split(\" \")]\n",
    "    # remove words that contain numbers\n",
    "    # text = [word for word in text if not any(c.isdigit() for c in word)]\n",
    "    # remove stop words\n",
    "    stop = stopwords.words('english')\n",
    "    text = [x for x in text.split() if x not in stop]\n",
    "    # remove empty tokens\n",
    "    text = [t for t in text if len(t) > 0]\n",
    "    # pos tag text\n",
    "    pos_tags = pos_tag(text)\n",
    "    # lemmatize text\n",
    "    text = [WordNetLemmatizer().lemmatize(t[0], get_wordnet_pos(t[1])) for t in pos_tags]\n",
    "    # remove words with only one letter\n",
    "    text = [t for t in text if len(t) > 1]\n",
    "    # join all\n",
    "    text = \" \".join(text)\n",
    "    return(text)"
   ]
  },
  {
   "cell_type": "code",
   "execution_count": 69,
   "metadata": {},
   "outputs": [
    {
     "name": "stdout",
     "output_type": "stream",
     "text": [
      "sentence : The scenary is great with a seaview right in front of my eyes \n",
      "Lemma text:  the scenary great with seaview right front eye\n",
      "Stemmed text : the scenari great with seaview right front eye\n",
      "---------------------------\n",
      "sentence : However the windows is not clean for me to enjoy the view \n",
      "Lemma text:  however the window not clean for enjoy the view\n",
      "Stemmed text : howev the window not clean for enjoy the view\n",
      "---------------------------\n",
      "sentence : Food is good and tasty fish is fresh with nice presentation \n",
      "Lemma text:  food good and tasty fish fresh with nice presentation\n",
      "Stemmed text : food good and tasti fish fresh with nice present\n",
      "---------------------------\n",
      "sentence : The service quality is good and efficient and the staff are all polite \n",
      "Lemma text:  the service quality good and efficient and the staff are all polite\n",
      "Stemmed text : the servic qualiti good and effici and the staff are all polit\n",
      "---------------------------\n"
     ]
    }
   ],
   "source": [
    "clean_sent_list = []\n",
    "lemma_sent_list = []\n",
    "stem_sent_list = []\n",
    "for sent in new_sent_list:\n",
    "    print(\"sentence :\", sent)\n",
    "    cleaned_text = clean_text(sent)\n",
    "    lemma_text = lemmatize_text(sent)\n",
    "    stemmed_text = stem_text(sent)\n",
    "    clean_sent_list.append(cleaned_text)\n",
    "    lemma_sent_list.append(lemma_text)\n",
    "    stem_sent_list.append(stemmed_text)\n",
    "    print(\"---------------------------\")"
   ]
  },
  {
   "cell_type": "code",
   "execution_count": 70,
   "metadata": {},
   "outputs": [
    {
     "data": {
      "text/plain": [
       "['the scenari great with seaview right front eye',\n",
       " 'howev the window not clean for enjoy the view',\n",
       " 'food good and tasti fish fresh with nice present',\n",
       " 'the servic qualiti good and effici and the staff are all polit']"
      ]
     },
     "execution_count": 70,
     "metadata": {},
     "output_type": "execute_result"
    }
   ],
   "source": [
    "clean_sent_list"
   ]
  },
  {
   "cell_type": "markdown",
   "metadata": {},
   "source": [
    "### Convert list to dataframe"
   ]
  },
  {
   "cell_type": "code",
   "execution_count": 71,
   "metadata": {},
   "outputs": [
    {
     "data": {
      "text/html": [
       "<div>\n",
       "<style scoped>\n",
       "    .dataframe tbody tr th:only-of-type {\n",
       "        vertical-align: middle;\n",
       "    }\n",
       "\n",
       "    .dataframe tbody tr th {\n",
       "        vertical-align: top;\n",
       "    }\n",
       "\n",
       "    .dataframe thead th {\n",
       "        text-align: right;\n",
       "    }\n",
       "</style>\n",
       "<table border=\"1\" class=\"dataframe\">\n",
       "  <thead>\n",
       "    <tr style=\"text-align: right;\">\n",
       "      <th></th>\n",
       "      <th>sentence</th>\n",
       "    </tr>\n",
       "  </thead>\n",
       "  <tbody>\n",
       "    <tr>\n",
       "      <th>0</th>\n",
       "      <td>the scenary great with seaview right front eye</td>\n",
       "    </tr>\n",
       "    <tr>\n",
       "      <th>1</th>\n",
       "      <td>however the window not clean for enjoy the view</td>\n",
       "    </tr>\n",
       "    <tr>\n",
       "      <th>2</th>\n",
       "      <td>food good and tasty fish fresh with nice prese...</td>\n",
       "    </tr>\n",
       "    <tr>\n",
       "      <th>3</th>\n",
       "      <td>the service quality good and efficient and the...</td>\n",
       "    </tr>\n",
       "  </tbody>\n",
       "</table>\n",
       "</div>"
      ],
      "text/plain": [
       "                                            sentence\n",
       "0     the scenary great with seaview right front eye\n",
       "1    however the window not clean for enjoy the view\n",
       "2  food good and tasty fish fresh with nice prese...\n",
       "3  the service quality good and efficient and the..."
      ]
     },
     "execution_count": 71,
     "metadata": {},
     "output_type": "execute_result"
    }
   ],
   "source": [
    "data = pd.DataFrame(lemma_sent_list, columns=[\"sentence\"])\n",
    "data"
   ]
  },
  {
   "cell_type": "markdown",
   "metadata": {},
   "source": [
    "### Get polarity"
   ]
  },
  {
   "cell_type": "code",
   "execution_count": 72,
   "metadata": {},
   "outputs": [
    {
     "data": {
      "text/html": [
       "<div>\n",
       "<style scoped>\n",
       "    .dataframe tbody tr th:only-of-type {\n",
       "        vertical-align: middle;\n",
       "    }\n",
       "\n",
       "    .dataframe tbody tr th {\n",
       "        vertical-align: top;\n",
       "    }\n",
       "\n",
       "    .dataframe thead th {\n",
       "        text-align: right;\n",
       "    }\n",
       "</style>\n",
       "<table border=\"1\" class=\"dataframe\">\n",
       "  <thead>\n",
       "    <tr style=\"text-align: right;\">\n",
       "      <th></th>\n",
       "      <th>sentence</th>\n",
       "      <th>polarity</th>\n",
       "    </tr>\n",
       "  </thead>\n",
       "  <tbody>\n",
       "    <tr>\n",
       "      <th>0</th>\n",
       "      <td>the scenary great with seaview right front eye</td>\n",
       "      <td>0.6249</td>\n",
       "    </tr>\n",
       "    <tr>\n",
       "      <th>1</th>\n",
       "      <td>however the window not clean for enjoy the view</td>\n",
       "      <td>-0.5975</td>\n",
       "    </tr>\n",
       "    <tr>\n",
       "      <th>2</th>\n",
       "      <td>food good and tasty fish fresh with nice prese...</td>\n",
       "      <td>0.7906</td>\n",
       "    </tr>\n",
       "    <tr>\n",
       "      <th>3</th>\n",
       "      <td>the service quality good and efficient and the...</td>\n",
       "      <td>0.6908</td>\n",
       "    </tr>\n",
       "  </tbody>\n",
       "</table>\n",
       "</div>"
      ],
      "text/plain": [
       "                                            sentence  polarity\n",
       "0     the scenary great with seaview right front eye    0.6249\n",
       "1    however the window not clean for enjoy the view   -0.5975\n",
       "2  food good and tasty fish fresh with nice prese...    0.7906\n",
       "3  the service quality good and efficient and the...    0.6908"
      ]
     },
     "execution_count": 72,
     "metadata": {},
     "output_type": "execute_result"
    }
   ],
   "source": [
    "# This function gets the polarity of reviews using Vader # \n",
    "def get_polarity(sentence):\n",
    "    analyser = SentimentIntensityAnalyzer()\n",
    "    score = analyser.polarity_scores(sentence)\n",
    "    compound = score['compound']\n",
    "    return compound\n",
    "\n",
    "data['polarity'] = data['sentence'].apply(get_polarity)\n",
    "data"
   ]
  },
  {
   "cell_type": "markdown",
   "metadata": {},
   "source": [
    "### Aggregated polarity score"
   ]
  },
  {
   "cell_type": "code",
   "execution_count": 73,
   "metadata": {},
   "outputs": [
    {
     "name": "stdout",
     "output_type": "stream",
     "text": [
      "('positive', 0.3772)\n"
     ]
    }
   ],
   "source": [
    "polarity = data['polarity'].mean()\n",
    "if polarity >= 0.05:\n",
    "    sentiment = ('positive', polarity)\n",
    "elif polarity > -0.05 and polarity < 0.05: \n",
    "    sentiment = ('neutral', polarity)\n",
    "else: \n",
    "    sentiment = ('negative', polarity)\n",
    "print(sentiment)"
   ]
  },
  {
   "cell_type": "markdown",
   "metadata": {},
   "source": [
    "## Get Vader polarity score"
   ]
  },
  {
   "cell_type": "code",
   "execution_count": null,
   "metadata": {},
   "outputs": [],
   "source": [
    "# This function gets the polarity of reviews using Vader # \n",
    "def get_polarity(sentence):\n",
    "    analyser = SentimentIntensityAnalyzer()\n",
    "    score = analyser.polarity_scores(sentence)\n",
    "    compound = score['compound']\n",
    "    return compound\n",
    "    \n",
    "data['polarity'] = data['sentence'].apply(get_polarity)\n",
    "data"
   ]
  },
  {
   "cell_type": "code",
   "execution_count": null,
   "metadata": {},
   "outputs": [],
   "source": [
    "def number_words(sentence):\n",
    "    return len(re.findall(r'\\w+', str(sentence)))\n",
    "\n",
    "length = (data['sentence'].apply(number_words) > 1)\n",
    "data = data.loc[length]"
   ]
  },
  {
   "cell_type": "markdown",
   "metadata": {},
   "source": [
    "## Aggregate the polarity by grouping sentence by reviews"
   ]
  },
  {
   "cell_type": "code",
   "execution_count": null,
   "metadata": {},
   "outputs": [],
   "source": [
    "data['agg_polarity'] = data.groupby('reviews')['polarity'].transform('mean')"
   ]
  },
  {
   "cell_type": "code",
   "execution_count": null,
   "metadata": {},
   "outputs": [],
   "source": [
    "# data = data.drop_duplicates(subset=\"reviews\", keep=\"first\")\n",
    "# data = data.drop(['sentence','polarity'], axis=1)"
   ]
  },
  {
   "cell_type": "code",
   "execution_count": null,
   "metadata": {},
   "outputs": [],
   "source": [
    "data[\"review_sentiment\"] = [\"positive\" if x>=0.196725 else (\"neutral\" if x>=0.096725 else \"negative\") for x in data['agg_polarity']]\n",
    "data"
   ]
  },
  {
   "cell_type": "code",
   "execution_count": null,
   "metadata": {},
   "outputs": [],
   "source": [
    "data[\"sen_sentiment\"] = [\"positive\" if x>=0.1779 else (\"neutral\" if x>=0.01779 else \"negative\") for x in data['polarity']]\n",
    "data"
   ]
  },
  {
   "cell_type": "markdown",
   "metadata": {},
   "source": [
    "## Export "
   ]
  },
  {
   "cell_type": "code",
   "execution_count": null,
   "metadata": {},
   "outputs": [],
   "source": [
    "data.to_csv('./data/tagged_sentence_data.csv', index=False)"
   ]
  },
  {
   "cell_type": "markdown",
   "metadata": {},
   "source": [
    "## Setting to run to see all dataframe row"
   ]
  },
  {
   "cell_type": "code",
   "execution_count": null,
   "metadata": {},
   "outputs": [],
   "source": [
    "# view_data = data.loc[:, \"sentence\":\"sentiment\"]\n",
    "data.sort_values(by=['agg_polarity'], axis=0, inplace=True,ascending=False)\n",
    "\n",
    "pd.set_option('display.max_rows',None)\n",
    "pd.set_option('display.width', None)\n",
    "pd.set_option('display.max_colwidth', -1)\n",
    "data\n",
    "# Threshold: if polarity <= 0.1779: Negative"
   ]
  },
  {
   "cell_type": "code",
   "execution_count": 9,
   "metadata": {},
   "outputs": [
    {
     "name": "stderr",
     "output_type": "stream",
     "text": [
      "/Users/yuankanglee/opt/anaconda3/lib/python3.7/site-packages/ipykernel_launcher.py:3: FutureWarning: Passing a negative integer is deprecated in version 1.0 and will not be supported in future version. Instead, use None to not limit the column width.\n",
      "  This is separate from the ipykernel package so we can avoid doing imports until\n"
     ]
    }
   ],
   "source": [
    "pd.set_option('display.max_rows',None)\n",
    "pd.set_option('display.width', None)\n",
    "pd.set_option('display.max_colwidth', -1)"
   ]
  },
  {
   "cell_type": "code",
   "execution_count": null,
   "metadata": {},
   "outputs": [],
   "source": []
  }
 ],
 "metadata": {
  "kernelspec": {
   "display_name": "Python 3",
   "language": "python",
   "name": "python3"
  },
  "language_info": {
   "codemirror_mode": {
    "name": "ipython",
    "version": 3
   },
   "file_extension": ".py",
   "mimetype": "text/x-python",
   "name": "python",
   "nbconvert_exporter": "python",
   "pygments_lexer": "ipython3",
   "version": "3.7.4"
  }
 },
 "nbformat": 4,
 "nbformat_minor": 4
}
