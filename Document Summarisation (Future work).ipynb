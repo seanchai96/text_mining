{
 "cells": [
  {
   "cell_type": "markdown",
   "metadata": {},
   "source": [
    "# Document Summarisation"
   ]
  },
  {
   "cell_type": "markdown",
   "metadata": {},
   "source": [
    "## Import Libraries"
   ]
  },
  {
   "cell_type": "code",
   "execution_count": 1,
   "metadata": {},
   "outputs": [],
   "source": [
    "from nltk.corpus import stopwords\n",
    "from nltk.cluster.util import cosine_distance\n",
    "import numpy as np\n",
    "import networkx as nx\n",
    "import pandas as pd"
   ]
  },
  {
   "cell_type": "markdown",
   "metadata": {},
   "source": [
    "## Read File"
   ]
  },
  {
   "cell_type": "code",
   "execution_count": 2,
   "metadata": {},
   "outputs": [],
   "source": [
    "# Read data\n",
    "df=pd.read_csv('cleaned_hotelreviews.csv')\n",
    "df=df.dropna()\n",
    "df['reviews'] = df['reviews'].str.split(\" \")\n",
    "\n",
    "# testing only first 10 reviews\n",
    "sentences = df['reviews'].head(10).to_numpy()\n",
    "sentences = list(sentences)"
   ]
  },
  {
   "cell_type": "code",
   "execution_count": 3,
   "metadata": {},
   "outputs": [
    {
     "name": "stdout",
     "output_type": "stream",
     "text": [
      "Original text:\n",
      "i am so angry that i made this post available via all possible sites i use when planing my trips so no one will make the mistake of booking this place i made my booking via booking com we stayed for nights in this hotel from to july upon arrival we were placed in a small room on the floor of the hotel it turned out that this was not the room we booked i had specially reserved the level duplex room so that we would have a big windows and high ceilings the room itself was ok if you don t mind the broken window that can not be closed hello rain and a mini fridge that contained some sort of a bio weapon at least i guessed so by the smell of it i intimately asked to change the room and after explaining times that i booked a duplex btw it costs the same as a simple double but got way more volume due to the high ceiling was offered a room but only the next day so i had to check out the next day before o clock in order to get the room i waned to not the best way to begin your holiday so we had to wait till in order to check in my new room what a wonderful waist of my time the room i got was just as i wanted to peaceful internal garden view big window we were tired from waiting the room so we placed our belongings and rushed to the city in the evening it turned out that there was a constant noise in the room i guess it was made by vibrating vent tubes or something it was constant and annoying as hell and it did not stop even at am making it hard to fall asleep for me and my wife i have an audio recording that i can not attach here but if you want i can send it via e mail the next day the technician came but was not able to determine the cause of the disturbing sound so i was offered to change the room once again the hotel was fully booked and they had only room left the one that was smaller but seems newer rooms are nice but for elderly a bit difficult as most rooms are two story with narrow steps so ask for single level inside the rooms are very very basic just tea coffee and boiler and no bar empty fridge my room was dirty and i was afraid to walk barefoot on the floor which looked as if it was not cleaned in weeks white furniture which looked nice in pictures was dirty too and the door looked like it was attacked by an angry dog my shower drain was clogged and the staff did not respond to my request to clean it on a day with heavy rainfall a pretty common occurrence in amsterdam the roof in my room was leaking luckily not on the bed you could also see signs of earlier water damage i also saw insects running on the floor overall the second floor of the property looked dirty and badly kept on top of all of this a repairman who came to fix something in a room next door at midnight was very noisy as were many of the guests i understand the challenges of running a hotel in an old building but this negligence is inconsistent with prices demanded by the hotel on the last night after i complained about water damage the night shift manager offered to move me to a different room but that offer came pretty late around midnight when i was already in bed and ready to sleep you when i booked with your company on line you showed me pictures of a room i thought i was getting and paying for and then when we arrived that s room was booked and the staff told me we could only book the villa suite theough them directly which was completely false advertising after being there we realised that you have grouped lots of rooms on the photos together leaving me the consumer confused and extreamly disgruntled especially as its my my wife s birthday present please make your website more clear through pricing and photos as again i didn t really know what i was paying for and how much it had wnded up being your photos told me i was getting something i wasn t not happy and won t be using you again backyard of the hotel is total mess shouldn t happen in hotel with stars cleaner did not change our sheet and duvet everyday but just made bed they also didn t clean the floor and changed the body gel when we run out of it apart from the price for the brekfast everything very good even though the pictures show very clean rooms the actual room was quit dirty and outlived also check in is at o clock but our room was not ready at that time the aircondition makes so much noise and its hard to sleep at night nothing all great "
     ]
    }
   ],
   "source": [
    "flat_list = [item for sublist in sentences for item in sublist]\n",
    "\n",
    "print(\"Original text:\")\n",
    "for word in flat_list:\n",
    "    print(word, end=\" \")"
   ]
  },
  {
   "cell_type": "markdown",
   "metadata": {},
   "source": [
    "## Summarisation Algorithm"
   ]
  },
  {
   "cell_type": "markdown",
   "metadata": {},
   "source": [
    "- Cosine Similarity"
   ]
  },
  {
   "cell_type": "code",
   "execution_count": 4,
   "metadata": {},
   "outputs": [],
   "source": [
    "# run summarisation\n",
    "\n",
    "# def read_article(file_name):\n",
    "#     file = open(file_name, \"r\")\n",
    "#     filedata = file.readlines()\n",
    "#     article = filedata[0].split(\". \")\n",
    "#     sentences = []\n",
    "\n",
    "#     for sentence in article:\n",
    "#         print(sentence)\n",
    "#         sentences.append(sentence.replace(\"[^a-zA-Z]\", \" \").split(\" \"))\n",
    "#     sentences.pop() \n",
    "    \n",
    "#     return sentences\n",
    "\n",
    "def sentence_similarity(sent1, sent2, stopwords=None):\n",
    "    if stopwords is None:\n",
    "        stopwords = []\n",
    " \n",
    "    sent1 = [w.lower() for w in sent1]\n",
    "    sent2 = [w.lower() for w in sent2]\n",
    " \n",
    "    all_words = list(set(sent1 + sent2))\n",
    " \n",
    "    vector1 = [0] * len(all_words)\n",
    "    vector2 = [0] * len(all_words)\n",
    " \n",
    "    # build the vector for the first sentence\n",
    "    for w in sent1:\n",
    "        if w in stopwords:\n",
    "            continue\n",
    "        vector1[all_words.index(w)] += 1\n",
    " \n",
    "    # build the vector for the second sentence\n",
    "    for w in sent2:\n",
    "        if w in stopwords:\n",
    "            continue\n",
    "        vector2[all_words.index(w)] += 1\n",
    " \n",
    "    return 1 - cosine_distance(vector1, vector2)\n",
    " \n",
    "def build_similarity_matrix(sentences, stop_words):\n",
    "    # Create an empty similarity matrix\n",
    "    similarity_matrix = np.zeros((len(sentences), len(sentences)))\n",
    " \n",
    "    for idx1 in range(len(sentences)):\n",
    "        for idx2 in range(len(sentences)):\n",
    "            if idx1 == idx2: #ignore if both are same sentences\n",
    "                continue \n",
    "            similarity_matrix[idx1][idx2] = sentence_similarity(sentences[idx1], sentences[idx2], stop_words)\n",
    "\n",
    "    return similarity_matrix\n",
    "\n",
    "def generate_summary(sentences, top_n=5):\n",
    "    stop_words = stopwords.words('english')\n",
    "    summarize_text = []\n",
    "    \n",
    "#     # Step 1 - Read text anc split it\n",
    "#     sentences =  read_article(file_name)\n",
    "    \n",
    "    # Step 2 - Generate Similary Martix across sentences\n",
    "    sentence_similarity_martix = build_similarity_matrix(sentences, stop_words)\n",
    "\n",
    "    # Step 3 - Rank sentences in similarity martix\n",
    "    sentence_similarity_graph = nx.from_numpy_array(sentence_similarity_martix)\n",
    "    scores = nx.pagerank(sentence_similarity_graph)\n",
    "\n",
    "    # Step 4 - Sort the rank and pick top sentences\n",
    "    ranked_sentence = sorted(((scores[i],s) for i,s in enumerate(sentences)), reverse=True)    \n",
    "    print(\"Indexes of top ranked_sentence order are \", ranked_sentence)    \n",
    "\n",
    "    for i in range(top_n):\n",
    "        summarize_text.append(\" \".join(ranked_sentence[i][1]))\n",
    "\n",
    "    # Step 5 - Offcourse, output the summarize texr\n",
    "    print(\"\\nSummarize Text: \\n\", \". \".join(summarize_text))"
   ]
  },
  {
   "cell_type": "code",
   "execution_count": 5,
   "metadata": {},
   "outputs": [
    {
     "name": "stdout",
     "output_type": "stream",
     "text": [
      "Indexes of top ranked_sentence order are  [(0.20676970637011358, ['i', 'am', 'so', 'angry', 'that', 'i', 'made', 'this', 'post', 'available', 'via', 'all', 'possible', 'sites', 'i', 'use', 'when', 'planing', 'my', 'trips', 'so', 'no', 'one', 'will', 'make', 'the', 'mistake', 'of', 'booking', 'this', 'place', 'i', 'made', 'my', 'booking', 'via', 'booking', 'com', 'we', 'stayed', 'for', 'nights', 'in', 'this', 'hotel', 'from', 'to', 'july', 'upon', 'arrival', 'we', 'were', 'placed', 'in', 'a', 'small', 'room', 'on', 'the', 'floor', 'of', 'the', 'hotel', 'it', 'turned', 'out', 'that', 'this', 'was', 'not', 'the', 'room', 'we', 'booked', 'i', 'had', 'specially', 'reserved', 'the', 'level', 'duplex', 'room', 'so', 'that', 'we', 'would', 'have', 'a', 'big', 'windows', 'and', 'high', 'ceilings', 'the', 'room', 'itself', 'was', 'ok', 'if', 'you', 'don', 't', 'mind', 'the', 'broken', 'window', 'that', 'can', 'not', 'be', 'closed', 'hello', 'rain', 'and', 'a', 'mini', 'fridge', 'that', 'contained', 'some', 'sort', 'of', 'a', 'bio', 'weapon', 'at', 'least', 'i', 'guessed', 'so', 'by', 'the', 'smell', 'of', 'it', 'i', 'intimately', 'asked', 'to', 'change', 'the', 'room', 'and', 'after', 'explaining', 'times', 'that', 'i', 'booked', 'a', 'duplex', 'btw', 'it', 'costs', 'the', 'same', 'as', 'a', 'simple', 'double', 'but', 'got', 'way', 'more', 'volume', 'due', 'to', 'the', 'high', 'ceiling', 'was', 'offered', 'a', 'room', 'but', 'only', 'the', 'next', 'day', 'so', 'i', 'had', 'to', 'check', 'out', 'the', 'next', 'day', 'before', 'o', 'clock', 'in', 'order', 'to', 'get', 'the', 'room', 'i', 'waned', 'to', 'not', 'the', 'best', 'way', 'to', 'begin', 'your', 'holiday', 'so', 'we', 'had', 'to', 'wait', 'till', 'in', 'order', 'to', 'check', 'in', 'my', 'new', 'room', 'what', 'a', 'wonderful', 'waist', 'of', 'my', 'time', 'the', 'room', 'i', 'got', 'was', 'just', 'as', 'i', 'wanted', 'to', 'peaceful', 'internal', 'garden', 'view', 'big', 'window', 'we', 'were', 'tired', 'from', 'waiting', 'the', 'room', 'so', 'we', 'placed', 'our', 'belongings', 'and', 'rushed', 'to', 'the', 'city', 'in', 'the', 'evening', 'it', 'turned', 'out', 'that', 'there', 'was', 'a', 'constant', 'noise', 'in', 'the', 'room', 'i', 'guess', 'it', 'was', 'made', 'by', 'vibrating', 'vent', 'tubes', 'or', 'something', 'it', 'was', 'constant', 'and', 'annoying', 'as', 'hell', 'and', 'it', 'did', 'not', 'stop', 'even', 'at', 'am', 'making', 'it', 'hard', 'to', 'fall', 'asleep', 'for', 'me', 'and', 'my', 'wife', 'i', 'have', 'an', 'audio', 'recording', 'that', 'i', 'can', 'not', 'attach', 'here', 'but', 'if', 'you', 'want', 'i', 'can', 'send', 'it', 'via', 'e', 'mail', 'the', 'next', 'day', 'the', 'technician', 'came', 'but', 'was', 'not', 'able', 'to', 'determine', 'the', 'cause', 'of', 'the', 'disturbing', 'sound', 'so', 'i', 'was', 'offered', 'to', 'change', 'the', 'room', 'once', 'again', 'the', 'hotel', 'was', 'fully', 'booked', 'and', 'they', 'had', 'only', 'room', 'left', 'the', 'one', 'that', 'was', 'smaller', 'but', 'seems', 'newer']), (0.20522868527523314, ['my', 'room', 'was', 'dirty', 'and', 'i', 'was', 'afraid', 'to', 'walk', 'barefoot', 'on', 'the', 'floor', 'which', 'looked', 'as', 'if', 'it', 'was', 'not', 'cleaned', 'in', 'weeks', 'white', 'furniture', 'which', 'looked', 'nice', 'in', 'pictures', 'was', 'dirty', 'too', 'and', 'the', 'door', 'looked', 'like', 'it', 'was', 'attacked', 'by', 'an', 'angry', 'dog', 'my', 'shower', 'drain', 'was', 'clogged', 'and', 'the', 'staff', 'did', 'not', 'respond', 'to', 'my', 'request', 'to', 'clean', 'it', 'on', 'a', 'day', 'with', 'heavy', 'rainfall', 'a', 'pretty', 'common', 'occurrence', 'in', 'amsterdam', 'the', 'roof', 'in', 'my', 'room', 'was', 'leaking', 'luckily', 'not', 'on', 'the', 'bed', 'you', 'could', 'also', 'see', 'signs', 'of', 'earlier', 'water', 'damage', 'i', 'also', 'saw', 'insects', 'running', 'on', 'the', 'floor', 'overall', 'the', 'second', 'floor', 'of', 'the', 'property', 'looked', 'dirty', 'and', 'badly', 'kept', 'on', 'top', 'of', 'all', 'of', 'this', 'a', 'repairman', 'who', 'came', 'to', 'fix', 'something', 'in', 'a', 'room', 'next', 'door', 'at', 'midnight', 'was', 'very', 'noisy', 'as', 'were', 'many', 'of', 'the', 'guests', 'i', 'understand', 'the', 'challenges', 'of', 'running', 'a', 'hotel', 'in', 'an', 'old', 'building', 'but', 'this', 'negligence', 'is', 'inconsistent', 'with', 'prices', 'demanded', 'by', 'the', 'hotel', 'on', 'the', 'last', 'night', 'after', 'i', 'complained', 'about', 'water', 'damage', 'the', 'night', 'shift', 'manager', 'offered', 'to', 'move', 'me', 'to', 'a', 'different', 'room', 'but', 'that', 'offer', 'came', 'pretty', 'late', 'around', 'midnight', 'when', 'i', 'was', 'already', 'in', 'bed', 'and', 'ready', 'to', 'sleep']), (0.19960452182451988, ['even', 'though', 'the', 'pictures', 'show', 'very', 'clean', 'rooms', 'the', 'actual', 'room', 'was', 'quit', 'dirty', 'and', 'outlived', 'also', 'check', 'in', 'is', 'at', 'o', 'clock', 'but', 'our', 'room', 'was', 'not', 'ready', 'at', 'that', 'time']), (0.12028710268653865, ['you', 'when', 'i', 'booked', 'with', 'your', 'company', 'on', 'line', 'you', 'showed', 'me', 'pictures', 'of', 'a', 'room', 'i', 'thought', 'i', 'was', 'getting', 'and', 'paying', 'for', 'and', 'then', 'when', 'we', 'arrived', 'that', 's', 'room', 'was', 'booked', 'and', 'the', 'staff', 'told', 'me', 'we', 'could', 'only', 'book', 'the', 'villa', 'suite', 'theough', 'them', 'directly', 'which', 'was', 'completely', 'false', 'advertising', 'after', 'being', 'there', 'we', 'realised', 'that', 'you', 'have', 'grouped', 'lots', 'of', 'rooms', 'on', 'the', 'photos', 'together', 'leaving', 'me', 'the', 'consumer', 'confused', 'and', 'extreamly', 'disgruntled', 'especially', 'as', 'its', 'my', 'my', 'wife', 's', 'birthday', 'present', 'please', 'make', 'your', 'website', 'more', 'clear', 'through', 'pricing', 'and', 'photos', 'as', 'again', 'i', 'didn', 't', 'really', 'know', 'what', 'i', 'was', 'paying', 'for', 'and', 'how', 'much', 'it', 'had', 'wnded', 'up', 'being', 'your', 'photos', 'told', 'me', 'i', 'was', 'getting', 'something', 'i', 'wasn', 't', 'not', 'happy', 'and', 'won', 't', 'be', 'using', 'you', 'again']), (0.07816861783345426, ['cleaner', 'did', 'not', 'change', 'our', 'sheet', 'and', 'duvet', 'everyday', 'but', 'just', 'made', 'bed', 'they', 'also', 'didn', 't', 'clean', 'the', 'floor', 'and', 'changed', 'the', 'body', 'gel', 'when', 'we', 'run', 'out', 'of', 'it']), (0.055909131316538144, ['rooms', 'are', 'nice', 'but', 'for', 'elderly', 'a', 'bit', 'difficult', 'as', 'most', 'rooms', 'are', 'two', 'story', 'with', 'narrow', 'steps', 'so', 'ask', 'for', 'single', 'level', 'inside', 'the', 'rooms', 'are', 'very', 'very', 'basic', 'just', 'tea', 'coffee', 'and', 'boiler', 'and', 'no', 'bar', 'empty', 'fridge']), (0.0514111147881989, ['backyard', 'of', 'the', 'hotel', 'is', 'total', 'mess', 'shouldn', 't', 'happen', 'in', 'hotel', 'with', 'stars']), (0.0464765415759215, ['the', 'aircondition', 'makes', 'so', 'much', 'noise', 'and', 'its', 'hard', 'to', 'sleep', 'at', 'night']), (0.018072289164741105, ['nothing', 'all', 'great']), (0.018072289164741105, ['apart', 'from', 'the', 'price', 'for', 'the', 'brekfast', 'everything', 'very', 'good'])]\n",
      "\n",
      "Summarize Text: \n",
      " i am so angry that i made this post available via all possible sites i use when planing my trips so no one will make the mistake of booking this place i made my booking via booking com we stayed for nights in this hotel from to july upon arrival we were placed in a small room on the floor of the hotel it turned out that this was not the room we booked i had specially reserved the level duplex room so that we would have a big windows and high ceilings the room itself was ok if you don t mind the broken window that can not be closed hello rain and a mini fridge that contained some sort of a bio weapon at least i guessed so by the smell of it i intimately asked to change the room and after explaining times that i booked a duplex btw it costs the same as a simple double but got way more volume due to the high ceiling was offered a room but only the next day so i had to check out the next day before o clock in order to get the room i waned to not the best way to begin your holiday so we had to wait till in order to check in my new room what a wonderful waist of my time the room i got was just as i wanted to peaceful internal garden view big window we were tired from waiting the room so we placed our belongings and rushed to the city in the evening it turned out that there was a constant noise in the room i guess it was made by vibrating vent tubes or something it was constant and annoying as hell and it did not stop even at am making it hard to fall asleep for me and my wife i have an audio recording that i can not attach here but if you want i can send it via e mail the next day the technician came but was not able to determine the cause of the disturbing sound so i was offered to change the room once again the hotel was fully booked and they had only room left the one that was smaller but seems newer. my room was dirty and i was afraid to walk barefoot on the floor which looked as if it was not cleaned in weeks white furniture which looked nice in pictures was dirty too and the door looked like it was attacked by an angry dog my shower drain was clogged and the staff did not respond to my request to clean it on a day with heavy rainfall a pretty common occurrence in amsterdam the roof in my room was leaking luckily not on the bed you could also see signs of earlier water damage i also saw insects running on the floor overall the second floor of the property looked dirty and badly kept on top of all of this a repairman who came to fix something in a room next door at midnight was very noisy as were many of the guests i understand the challenges of running a hotel in an old building but this negligence is inconsistent with prices demanded by the hotel on the last night after i complained about water damage the night shift manager offered to move me to a different room but that offer came pretty late around midnight when i was already in bed and ready to sleep\n"
     ]
    }
   ],
   "source": [
    "# Execute code\n",
    "generate_summary(sentences, 2)"
   ]
  },
  {
   "cell_type": "code",
   "execution_count": null,
   "metadata": {},
   "outputs": [],
   "source": []
  }
 ],
 "metadata": {
  "kernelspec": {
   "display_name": "Python 3",
   "language": "python",
   "name": "python3"
  },
  "language_info": {
   "codemirror_mode": {
    "name": "ipython",
    "version": 3
   },
   "file_extension": ".py",
   "mimetype": "text/x-python",
   "name": "python",
   "nbconvert_exporter": "python",
   "pygments_lexer": "ipython3",
   "version": "3.7.4"
  }
 },
 "nbformat": 4,
 "nbformat_minor": 2
}
