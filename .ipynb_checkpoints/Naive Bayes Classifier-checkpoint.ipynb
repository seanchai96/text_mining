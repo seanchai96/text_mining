{
 "cells": [
  {
   "cell_type": "markdown",
   "metadata": {},
   "source": [
    "# Naive Bayes Classifier "
   ]
  },
  {
   "cell_type": "markdown",
   "metadata": {},
   "source": [
    "## Import Statement"
   ]
  },
  {
   "cell_type": "code",
   "execution_count": 67,
   "metadata": {},
   "outputs": [],
   "source": [
    "from nltk.stem.porter import *\n",
    "from nltk.corpus import stopwords\n",
    "from gensim import corpora\n",
    "from gensim import models\n",
    "from sklearn.model_selection import KFold\n",
    "from sklearn.model_selection import train_test_split\n",
    "from sklearn.metrics import classification_report\n",
    "from sklearn.metrics import confusion_matrix   \n",
    "import nltk\n",
    "import pandas as pd \n",
    "import numpy as np\n",
    "import gensim\n",
    "import random"
   ]
  },
  {
   "cell_type": "markdown",
   "metadata": {},
   "source": [
    "## Load training file"
   ]
  },
  {
   "cell_type": "code",
   "execution_count": 2,
   "metadata": {},
   "outputs": [],
   "source": [
    "data = pd.read_csv(\"./data/cleaned_hotelreviews.csv\")"
   ]
  },
  {
   "cell_type": "markdown",
   "metadata": {},
   "source": [
    "## Data Preprocessing"
   ]
  },
  {
   "cell_type": "markdown",
   "metadata": {},
   "source": [
    "### Remove nan and Stopwords"
   ]
  },
  {
   "cell_type": "code",
   "execution_count": 3,
   "metadata": {},
   "outputs": [],
   "source": [
    "data = data.dropna()\n",
    "stop_list = stopwords.words('english')\n",
    "data['reviews'] = data['reviews'].apply(lambda x: [word for word in x.split() if word not in stop_list])"
   ]
  },
  {
   "cell_type": "markdown",
   "metadata": {},
   "source": [
    "### Remove single word"
   ]
  },
  {
   "cell_type": "code",
   "execution_count": 4,
   "metadata": {},
   "outputs": [],
   "source": [
    "data['reviews'] = data['reviews'].apply(lambda x: x if len(x) > 1 else [])"
   ]
  },
  {
   "cell_type": "code",
   "execution_count": 5,
   "metadata": {},
   "outputs": [],
   "source": [
    "# data[data['reviews'] != '[]'] has error has convert list to string\n",
    "cleaned_data = data[data.astype(str)['reviews'] != '[]']"
   ]
  },
  {
   "cell_type": "code",
   "execution_count": 6,
   "metadata": {},
   "outputs": [
    {
     "data": {
      "text/html": [
       "<div>\n",
       "<style scoped>\n",
       "    .dataframe tbody tr th:only-of-type {\n",
       "        vertical-align: middle;\n",
       "    }\n",
       "\n",
       "    .dataframe tbody tr th {\n",
       "        vertical-align: top;\n",
       "    }\n",
       "\n",
       "    .dataframe thead th {\n",
       "        text-align: right;\n",
       "    }\n",
       "</style>\n",
       "<table border=\"1\" class=\"dataframe\">\n",
       "  <thead>\n",
       "    <tr style=\"text-align: right;\">\n",
       "      <th></th>\n",
       "      <th>reviews</th>\n",
       "      <th>class</th>\n",
       "    </tr>\n",
       "  </thead>\n",
       "  <tbody>\n",
       "    <tr>\n",
       "      <td>0</td>\n",
       "      <td>[angry, made, post, available, via, possible, ...</td>\n",
       "      <td>negative</td>\n",
       "    </tr>\n",
       "    <tr>\n",
       "      <td>1</td>\n",
       "      <td>[rooms, nice, elderly, bit, difficult, rooms, ...</td>\n",
       "      <td>negative</td>\n",
       "    </tr>\n",
       "    <tr>\n",
       "      <td>2</td>\n",
       "      <td>[room, dirty, afraid, walk, barefoot, floor, l...</td>\n",
       "      <td>negative</td>\n",
       "    </tr>\n",
       "    <tr>\n",
       "      <td>3</td>\n",
       "      <td>[booked, company, line, showed, pictures, room...</td>\n",
       "      <td>negative</td>\n",
       "    </tr>\n",
       "    <tr>\n",
       "      <td>4</td>\n",
       "      <td>[backyard, hotel, total, mess, happen, hotel, ...</td>\n",
       "      <td>negative</td>\n",
       "    </tr>\n",
       "    <tr>\n",
       "      <td>...</td>\n",
       "      <td>...</td>\n",
       "      <td>...</td>\n",
       "    </tr>\n",
       "    <tr>\n",
       "      <td>834105</td>\n",
       "      <td>[good, breakfast]</td>\n",
       "      <td>positive</td>\n",
       "    </tr>\n",
       "    <tr>\n",
       "      <td>834106</td>\n",
       "      <td>[helpful, staff, allowed, check, early, arrive...</td>\n",
       "      <td>positive</td>\n",
       "    </tr>\n",
       "    <tr>\n",
       "      <td>834108</td>\n",
       "      <td>[breakfast, ok, got, earlier, check]</td>\n",
       "      <td>positive</td>\n",
       "    </tr>\n",
       "    <tr>\n",
       "      <td>834109</td>\n",
       "      <td>[rooms, enormous, really, comfortable, believe...</td>\n",
       "      <td>positive</td>\n",
       "    </tr>\n",
       "    <tr>\n",
       "      <td>834110</td>\n",
       "      <td>[staff, kind]</td>\n",
       "      <td>positive</td>\n",
       "    </tr>\n",
       "  </tbody>\n",
       "</table>\n",
       "<p>791439 rows × 2 columns</p>\n",
       "</div>"
      ],
      "text/plain": [
       "                                                  reviews     class\n",
       "0       [angry, made, post, available, via, possible, ...  negative\n",
       "1       [rooms, nice, elderly, bit, difficult, rooms, ...  negative\n",
       "2       [room, dirty, afraid, walk, barefoot, floor, l...  negative\n",
       "3       [booked, company, line, showed, pictures, room...  negative\n",
       "4       [backyard, hotel, total, mess, happen, hotel, ...  negative\n",
       "...                                                   ...       ...\n",
       "834105                                  [good, breakfast]  positive\n",
       "834106  [helpful, staff, allowed, check, early, arrive...  positive\n",
       "834108               [breakfast, ok, got, earlier, check]  positive\n",
       "834109  [rooms, enormous, really, comfortable, believe...  positive\n",
       "834110                                      [staff, kind]  positive\n",
       "\n",
       "[791439 rows x 2 columns]"
      ]
     },
     "execution_count": 6,
     "metadata": {},
     "output_type": "execute_result"
    }
   ],
   "source": [
    "cleaned_data"
   ]
  },
  {
   "cell_type": "markdown",
   "metadata": {},
   "source": [
    "### Stemming "
   ]
  },
  {
   "cell_type": "code",
   "execution_count": 7,
   "metadata": {},
   "outputs": [
    {
     "name": "stderr",
     "output_type": "stream",
     "text": [
      "/Users/yuankanglee/opt/anaconda3/lib/python3.7/site-packages/ipykernel_launcher.py:3: SettingWithCopyWarning: \n",
      "A value is trying to be set on a copy of a slice from a DataFrame.\n",
      "Try using .loc[row_indexer,col_indexer] = value instead\n",
      "\n",
      "See the caveats in the documentation: http://pandas.pydata.org/pandas-docs/stable/user_guide/indexing.html#returning-a-view-versus-a-copy\n",
      "  This is separate from the ipykernel package so we can avoid doing imports until\n"
     ]
    }
   ],
   "source": [
    "stemmer = PorterStemmer()\n",
    "data_stem = cleaned_data\n",
    "data_stem['reviews'] = data_stem['reviews'].apply(lambda x: [stemmer.stem(word) for word in x])"
   ]
  },
  {
   "cell_type": "code",
   "execution_count": 8,
   "metadata": {},
   "outputs": [
    {
     "data": {
      "text/html": [
       "<div>\n",
       "<style scoped>\n",
       "    .dataframe tbody tr th:only-of-type {\n",
       "        vertical-align: middle;\n",
       "    }\n",
       "\n",
       "    .dataframe tbody tr th {\n",
       "        vertical-align: top;\n",
       "    }\n",
       "\n",
       "    .dataframe thead th {\n",
       "        text-align: right;\n",
       "    }\n",
       "</style>\n",
       "<table border=\"1\" class=\"dataframe\">\n",
       "  <thead>\n",
       "    <tr style=\"text-align: right;\">\n",
       "      <th></th>\n",
       "      <th>reviews</th>\n",
       "      <th>class</th>\n",
       "    </tr>\n",
       "  </thead>\n",
       "  <tbody>\n",
       "    <tr>\n",
       "      <td>0</td>\n",
       "      <td>[angri, made, post, avail, via, possibl, site,...</td>\n",
       "      <td>negative</td>\n",
       "    </tr>\n",
       "    <tr>\n",
       "      <td>1</td>\n",
       "      <td>[room, nice, elderli, bit, difficult, room, tw...</td>\n",
       "      <td>negative</td>\n",
       "    </tr>\n",
       "    <tr>\n",
       "      <td>2</td>\n",
       "      <td>[room, dirti, afraid, walk, barefoot, floor, l...</td>\n",
       "      <td>negative</td>\n",
       "    </tr>\n",
       "    <tr>\n",
       "      <td>3</td>\n",
       "      <td>[book, compani, line, show, pictur, room, thou...</td>\n",
       "      <td>negative</td>\n",
       "    </tr>\n",
       "    <tr>\n",
       "      <td>4</td>\n",
       "      <td>[backyard, hotel, total, mess, happen, hotel, ...</td>\n",
       "      <td>negative</td>\n",
       "    </tr>\n",
       "    <tr>\n",
       "      <td>...</td>\n",
       "      <td>...</td>\n",
       "      <td>...</td>\n",
       "    </tr>\n",
       "    <tr>\n",
       "      <td>834105</td>\n",
       "      <td>[good, breakfast]</td>\n",
       "      <td>positive</td>\n",
       "    </tr>\n",
       "    <tr>\n",
       "      <td>834106</td>\n",
       "      <td>[help, staff, allow, check, earli, arriv, chec...</td>\n",
       "      <td>positive</td>\n",
       "    </tr>\n",
       "    <tr>\n",
       "      <td>834108</td>\n",
       "      <td>[breakfast, ok, got, earlier, check]</td>\n",
       "      <td>positive</td>\n",
       "    </tr>\n",
       "    <tr>\n",
       "      <td>834109</td>\n",
       "      <td>[room, enorm, realli, comfort, believ, famili,...</td>\n",
       "      <td>positive</td>\n",
       "    </tr>\n",
       "    <tr>\n",
       "      <td>834110</td>\n",
       "      <td>[staff, kind]</td>\n",
       "      <td>positive</td>\n",
       "    </tr>\n",
       "  </tbody>\n",
       "</table>\n",
       "<p>791439 rows × 2 columns</p>\n",
       "</div>"
      ],
      "text/plain": [
       "                                                  reviews     class\n",
       "0       [angri, made, post, avail, via, possibl, site,...  negative\n",
       "1       [room, nice, elderli, bit, difficult, room, tw...  negative\n",
       "2       [room, dirti, afraid, walk, barefoot, floor, l...  negative\n",
       "3       [book, compani, line, show, pictur, room, thou...  negative\n",
       "4       [backyard, hotel, total, mess, happen, hotel, ...  negative\n",
       "...                                                   ...       ...\n",
       "834105                                  [good, breakfast]  positive\n",
       "834106  [help, staff, allow, check, earli, arriv, chec...  positive\n",
       "834108               [breakfast, ok, got, earlier, check]  positive\n",
       "834109  [room, enorm, realli, comfort, believ, famili,...  positive\n",
       "834110                                      [staff, kind]  positive\n",
       "\n",
       "[791439 rows x 2 columns]"
      ]
     },
     "execution_count": 8,
     "metadata": {},
     "output_type": "execute_result"
    }
   ],
   "source": [
    "data_stem"
   ]
  },
  {
   "cell_type": "markdown",
   "metadata": {},
   "source": [
    "### Lemetization"
   ]
  },
  {
   "cell_type": "code",
   "execution_count": null,
   "metadata": {},
   "outputs": [],
   "source": []
  },
  {
   "cell_type": "markdown",
   "metadata": {},
   "source": [
    "### TF-IDF"
   ]
  },
  {
   "cell_type": "code",
   "execution_count": null,
   "metadata": {},
   "outputs": [],
   "source": []
  },
  {
   "cell_type": "markdown",
   "metadata": {},
   "source": [
    "## Train the model"
   ]
  },
  {
   "cell_type": "markdown",
   "metadata": {},
   "source": [
    "### Use Gensim to convert to dictionary and prepare data for training\n",
    "1. Convert reviews to dictionary\n",
    "2. Convert the reviews dictionary into TF vectors \n",
    "3. Tag a number to the word based on each review TF vector\n",
    "4. Tag the dictionary with either positive or negative based on the data"
   ]
  },
  {
   "cell_type": "code",
   "execution_count": 9,
   "metadata": {},
   "outputs": [
    {
     "name": "stdout",
     "output_type": "stream",
     "text": [
      "0         [(0, 1), (1, 1), (2, 1), (3, 1), (4, 1), (5, 1...\n",
      "1         [(4, 1), (40, 1), (57, 1), (81, 3), (120, 1), ...\n",
      "2         [(1, 1), (17, 2), (29, 1), (39, 3), (51, 2), (...\n",
      "3         [(3, 1), (14, 3), (43, 2), (60, 1), (81, 3), (...\n",
      "4         [(51, 2), (241, 1), (242, 1), (243, 1), (244, ...\n",
      "                                ...                        \n",
      "834105                                 [(255, 1), (288, 1)]\n",
      "834106    [(3, 1), (21, 2), (98, 1), (200, 1), (434, 1),...\n",
      "834108      [(21, 1), (44, 1), (70, 1), (159, 1), (288, 1)]\n",
      "834109    [(81, 1), (151, 1), (231, 1), (320, 1), (382, ...\n",
      "834110                                 [(200, 1), (461, 1)]\n",
      "Name: reviews, Length: 791439, dtype: object\n"
     ]
    },
    {
     "name": "stderr",
     "output_type": "stream",
     "text": [
      "/Users/yuankanglee/opt/anaconda3/lib/python3.7/site-packages/ipykernel_launcher.py:2: SettingWithCopyWarning: \n",
      "A value is trying to be set on a copy of a slice from a DataFrame.\n",
      "Try using .loc[row_indexer,col_indexer] = value instead\n",
      "\n",
      "See the caveats in the documentation: http://pandas.pydata.org/pandas-docs/stable/user_guide/indexing.html#returning-a-view-versus-a-copy\n",
      "  \n"
     ]
    }
   ],
   "source": [
    "dictionary = corpora.Dictionary(data_stem['reviews'])\n",
    "data_stem['reviews'] = [dictionary.doc2bow(doc) for doc in data_stem['reviews']]\n",
    "\n",
    "print(data_stem['reviews'])"
   ]
  },
  {
   "cell_type": "code",
   "execution_count": 10,
   "metadata": {},
   "outputs": [
    {
     "name": "stderr",
     "output_type": "stream",
     "text": [
      "/Users/yuankanglee/opt/anaconda3/lib/python3.7/site-packages/ipykernel_launcher.py:1: SettingWithCopyWarning: \n",
      "A value is trying to be set on a copy of a slice from a DataFrame.\n",
      "Try using .loc[row_indexer,col_indexer] = value instead\n",
      "\n",
      "See the caveats in the documentation: http://pandas.pydata.org/pandas-docs/stable/user_guide/indexing.html#returning-a-view-versus-a-copy\n",
      "  \"\"\"Entry point for launching an IPython kernel.\n"
     ]
    }
   ],
   "source": [
    "data_stem['reviews'] = [{id:1 for (id, tf_value) in vec} for vec in data_stem['reviews']]"
   ]
  },
  {
   "cell_type": "markdown",
   "metadata": {},
   "source": [
    "### Train test split the dataframe and conver into tuples (Not use)"
   ]
  },
  {
   "cell_type": "code",
   "execution_count": 16,
   "metadata": {},
   "outputs": [],
   "source": [
    "train_test_data = data_stem\n",
    "msk = np.random.rand(len(train_test_data)) < 0.8\n",
    "train = train_test_data[msk]\n",
    "test = train_test_data[~msk]\n",
    "\n",
    "tuples_train_list =list(train.itertuples(index=False, name=None))\n",
    "tuples_test_list = list(test.itertuples(index=False, name=None))"
   ]
  },
  {
   "cell_type": "code",
   "execution_count": 27,
   "metadata": {},
   "outputs": [
    {
     "name": "stdout",
     "output_type": "stream",
     "text": [
      "({12: 1, 14: 1, 21: 1, 24: 1, 25: 1, 51: 1, 67: 1, 68: 1, 81: 1, 108: 1, 117: 1, 120: 1, 154: 1, 168: 1, 184: 1, 200: 1, 263: 1, 264: 1, 265: 1, 266: 1, 267: 1, 268: 1, 269: 1, 270: 1, 271: 1, 272: 1, 273: 1, 274: 1, 275: 1, 276: 1, 277: 1, 278: 1, 279: 1, 280: 1, 281: 1, 282: 1, 283: 1, 284: 1, 285: 1, 286: 1, 287: 1}, 'negative')\n"
     ]
    }
   ],
   "source": [
    "print(tuples_test_list[1])"
   ]
  },
  {
   "cell_type": "markdown",
   "metadata": {},
   "source": [
    "### Convert dataframe into a list of tuples"
   ]
  },
  {
   "cell_type": "code",
   "execution_count": 28,
   "metadata": {},
   "outputs": [
    {
     "name": "stdout",
     "output_type": "stream",
     "text": [
      "({0: 1, 1: 1, 2: 1, 3: 1, 4: 1, 5: 1, 6: 1, 7: 1, 8: 1, 9: 1, 10: 1, 11: 1, 12: 1, 13: 1, 14: 1, 15: 1, 16: 1, 17: 1, 18: 1, 19: 1, 20: 1, 21: 1, 22: 1, 23: 1, 24: 1, 25: 1, 26: 1, 27: 1, 28: 1, 29: 1, 30: 1, 31: 1, 32: 1, 33: 1, 34: 1, 35: 1, 36: 1, 37: 1, 38: 1, 39: 1, 40: 1, 41: 1, 42: 1, 43: 1, 44: 1, 45: 1, 46: 1, 47: 1, 48: 1, 49: 1, 50: 1, 51: 1, 52: 1, 53: 1, 54: 1, 55: 1, 56: 1, 57: 1, 58: 1, 59: 1, 60: 1, 61: 1, 62: 1, 63: 1, 64: 1, 65: 1, 66: 1, 67: 1, 68: 1, 69: 1, 70: 1, 71: 1, 72: 1, 73: 1, 74: 1, 75: 1, 76: 1, 77: 1, 78: 1, 79: 1, 80: 1, 81: 1, 82: 1, 83: 1, 84: 1, 85: 1, 86: 1, 87: 1, 88: 1, 89: 1, 90: 1, 91: 1, 92: 1, 93: 1, 94: 1, 95: 1, 96: 1, 97: 1, 98: 1, 99: 1, 100: 1, 101: 1, 102: 1, 103: 1, 104: 1, 105: 1, 106: 1, 107: 1, 108: 1, 109: 1, 110: 1, 111: 1, 112: 1, 113: 1, 114: 1, 115: 1, 116: 1, 117: 1, 118: 1, 119: 1}, 'negative')\n"
     ]
    }
   ],
   "source": [
    "data = data_stem\n",
    "tuples_list = list(data.itertuples(index=False, name=None))\n",
    "print(tuples_list[0])"
   ]
  },
  {
   "cell_type": "markdown",
   "metadata": {},
   "source": [
    "### Fit the train data into nltk classifier "
   ]
  },
  {
   "cell_type": "code",
   "execution_count": 87,
   "metadata": {},
   "outputs": [
    {
     "name": "stdout",
     "output_type": "stream",
     "text": [
      "train size: 712295 test size: 79144\n",
      "Fold 1 : 0.9124507227332457\n",
      "train size: 712295 test size: 79144\n",
      "Fold 2 : 0.9129940361872031\n",
      "train size: 712295 test size: 79144\n",
      "Fold 3 : 0.9128424138279592\n",
      "train size: 712295 test size: 79144\n",
      "Fold 4 : 0.9137268775902153\n",
      "train size: 712295 test size: 79144\n",
      "Fold 5 : 0.9120463964419286\n",
      "train size: 712295 test size: 79144\n",
      "Fold 6 : 0.9112377438592945\n",
      "train size: 712295 test size: 79144\n",
      "Fold 7 : 0.9129814009905994\n",
      "train size: 712295 test size: 79144\n",
      "Fold 8 : 0.9126276154856969\n",
      "train size: 712295 test size: 79144\n",
      "Fold 9 : 0.912071666835136\n",
      "train size: 712296 test size: 79143\n",
      "Fold 10 : 0.9113882465916127\n",
      "Average accuracy: 0.9124367120542891\n"
     ]
    }
   ],
   "source": [
    "random.shuffle(tuples_list)\n",
    "fold_count = 10\n",
    "kf = KFold(n_splits = fold_count)\n",
    "total = 0\n",
    "count = 1\n",
    "\n",
    "for train, test in kf.split(tuples_list):\n",
    "    train_data = np.array(tuples_list)[train]\n",
    "    test_data = np.array(tuples_list)[test]\n",
    "    print(\"train size:\", len(train_data), \"test size:\", len(test_data))\n",
    "    classifier = nltk.NaiveBayesClassifier.train(train_data)\n",
    "    print(\"Fold\", count, \":\", nltk.classify.accuracy(classifier, test_data))\n",
    "    total += nltk.classify.accuracy(classifier, test_data)\n",
    "    count+=1\n",
    "average_accuracy = total/fold_count\n",
    "print(\"Average accuracy:\", average_accuracy)"
   ]
  },
  {
   "cell_type": "markdown",
   "metadata": {},
   "source": [
    "### Confusion Matrix"
   ]
  },
  {
   "cell_type": "code",
   "execution_count": 88,
   "metadata": {},
   "outputs": [
    {
     "name": "stdout",
     "output_type": "stream",
     "text": [
      "\n",
      "Clasification report:\n",
      "               precision    recall  f1-score   support\n",
      "\n",
      "    negative       0.89      0.91      0.90     34602\n",
      "    positive       0.93      0.92      0.92     44541\n",
      "\n",
      "    accuracy                           0.91     79143\n",
      "   macro avg       0.91      0.91      0.91     79143\n",
      "weighted avg       0.91      0.91      0.91     79143\n",
      "\n",
      "\n",
      "Confussion matrix:\n",
      " [[31318  3284]\n",
      " [ 3729 40812]]\n"
     ]
    }
   ],
   "source": [
    "test_result = []\n",
    "gold_result = []\n",
    "\n",
    "for i in range(len(test_data)):\n",
    "    test_result.append(classifier.classify(test_data[i][0]))\n",
    "    gold_result.append(test_data[i][1])\n",
    "\n",
    "print('\\nClasification report:\\n', classification_report(gold_result, test_result))\n",
    "print('\\nConfussion matrix:\\n',confusion_matrix(gold_result, test_result))"
   ]
  },
  {
   "cell_type": "markdown",
   "metadata": {},
   "source": [
    "### Test with unseen input"
   ]
  },
  {
   "cell_type": "code",
   "execution_count": 91,
   "metadata": {},
   "outputs": [
    {
     "name": "stdout",
     "output_type": "stream",
     "text": [
      "Enter reviews :the waitress showed excellent service 10 out of 10 will come back\n",
      "[{378: 1, 535: 1, 617: 1, 2445: 1, 6238: 1, 17213: 1, 28363: 1, 37319: 1}]\n",
      "Review outcome: positive\n"
     ]
    }
   ],
   "source": [
    "test = input(\"Enter reviews :\")\n",
    "test = test.split()\n",
    "# test = test[word for word in test if word not in stop_list]\n",
    "test = dictionary.doc2bow(test)\n",
    "test = [{id:1 for (id, tf_value) in test}]\n",
    "print(test)\n",
    "print(\"Review outcome:\", classifier.classify(test[0]))"
   ]
  },
  {
   "cell_type": "code",
   "execution_count": null,
   "metadata": {},
   "outputs": [],
   "source": []
  }
 ],
 "metadata": {
  "kernelspec": {
   "display_name": "Python 3",
   "language": "python",
   "name": "python3"
  },
  "language_info": {
   "codemirror_mode": {
    "name": "ipython",
    "version": 3
   },
   "file_extension": ".py",
   "mimetype": "text/x-python",
   "name": "python",
   "nbconvert_exporter": "python",
   "pygments_lexer": "ipython3",
   "version": "3.7.4"
  }
 },
 "nbformat": 4,
 "nbformat_minor": 2
}
